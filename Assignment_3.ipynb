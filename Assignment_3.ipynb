{
 "cells": [
  {
   "cell_type": "code",
   "execution_count": null,
   "id": "22f2a7a6",
   "metadata": {},
   "outputs": [],
   "source": [
    "Q1:\n",
    "Why are function advantageous to have in your program?"
   ]
  },
  {
   "cell_type": "code",
   "execution_count": null,
   "id": "3e5f75d1",
   "metadata": {},
   "outputs": [],
   "source": [
    "Ans1:\n",
    "Using functions, there is no need of writing the same code again and again and this makes program easily readable by human.\n",
    "This makes program shorter and easy to update."
   ]
  },
  {
   "cell_type": "code",
   "execution_count": null,
   "id": "0fbce62c",
   "metadata": {},
   "outputs": [],
   "source": [
    "Q2:\n",
    "When does the code in a function run: when it's specified or when it's called?"
   ]
  },
  {
   "cell_type": "code",
   "execution_count": null,
   "id": "3e68e6f7",
   "metadata": {},
   "outputs": [],
   "source": [
    "Ans2:\n",
    "The code in a functions runs when it is called, not when it is specified."
   ]
  },
  {
   "cell_type": "code",
   "execution_count": null,
   "id": "22a1d2bc",
   "metadata": {},
   "outputs": [],
   "source": [
    "Q3:\n",
    "What statement creates a function?"
   ]
  },
  {
   "cell_type": "code",
   "execution_count": null,
   "id": "b300c95b",
   "metadata": {},
   "outputs": [],
   "source": [
    "Ans3:\n",
    "The 'def' statement creates (or defines) a function.\n",
    "eg:\n",
    "def Function():\n",
    "    pass"
   ]
  },
  {
   "cell_type": "code",
   "execution_count": null,
   "id": "87e43079",
   "metadata": {},
   "outputs": [],
   "source": [
    "Q4:\n",
    "What is the difference between a function and a function call?"
   ]
  },
  {
   "cell_type": "code",
   "execution_count": null,
   "id": "da518766",
   "metadata": {},
   "outputs": [],
   "source": [
    "Ans4:\n",
    "Functions are blocks of code written to carry out a specified task whereas function call is what orders the function\n",
    "to perform execution and evaluates to the function returns value."
   ]
  },
  {
   "cell_type": "code",
   "execution_count": null,
   "id": "cd46114d",
   "metadata": {},
   "outputs": [],
   "source": [
    "Q5:\n",
    "How many global scopes are there in a Python program? How many local scopes?"
   ]
  },
  {
   "cell_type": "code",
   "execution_count": null,
   "id": "0979278d",
   "metadata": {},
   "outputs": [],
   "source": [
    "Ans5:\n",
    "There is only one global scope.\n",
    "And whenever a function is called, a local scope is created."
   ]
  },
  {
   "cell_type": "code",
   "execution_count": null,
   "id": "347b404f",
   "metadata": {},
   "outputs": [],
   "source": [
    "Q6:\n",
    "What happens to variables in a local scope when the function call returns?"
   ]
  },
  {
   "cell_type": "code",
   "execution_count": null,
   "id": "67e640f5",
   "metadata": {},
   "outputs": [],
   "source": [
    "Ans6:\n",
    "When a function call returns, all the local scope is destroyed and all the variable in it are removed or diminished."
   ]
  },
  {
   "cell_type": "code",
   "execution_count": null,
   "id": "a92b49c1",
   "metadata": {},
   "outputs": [],
   "source": [
    "Q7:\n",
    "What is the concept of a return value? Is it possible to have a return value in an expression?"
   ]
  },
  {
   "cell_type": "code",
   "execution_count": null,
   "id": "e10ce02e",
   "metadata": {},
   "outputs": [],
   "source": [
    "Ans7:\n",
    "When a function is called and it evaluates to a value is called as a return value.\n",
    "Yes, it is possible to have a return value in an expression."
   ]
  },
  {
   "cell_type": "code",
   "execution_count": null,
   "id": "99a6cc20",
   "metadata": {},
   "outputs": [],
   "source": [
    "Q8:\n",
    "If a function does not have a return statement, what is the return value of a call to that function?"
   ]
  },
  {
   "cell_type": "code",
   "execution_count": null,
   "id": "b06ca8a9",
   "metadata": {},
   "outputs": [],
   "source": [
    "Ans8:\n",
    "If a function does not have a return statement, the return value of a call to that function will be None."
   ]
  },
  {
   "cell_type": "code",
   "execution_count": 13,
   "id": "33a7937c",
   "metadata": {},
   "outputs": [
    {
     "name": "stdout",
     "output_type": "stream",
     "text": [
      "None\n"
     ]
    }
   ],
   "source": [
    "#For Example\n",
    "def func():\n",
    "    pass\n",
    "x=func()\n",
    "print(x)"
   ]
  },
  {
   "cell_type": "code",
   "execution_count": null,
   "id": "9d22463e",
   "metadata": {},
   "outputs": [],
   "source": [
    "Q9:\n",
    "How do you make a function variable refer to the global variable?"
   ]
  },
  {
   "cell_type": "code",
   "execution_count": null,
   "id": "a42844d1",
   "metadata": {},
   "outputs": [],
   "source": [
    "Ans9:\n",
    "A global statement will force a variable in a function to refer to the global variable."
   ]
  },
  {
   "cell_type": "code",
   "execution_count": null,
   "id": "85424cad",
   "metadata": {},
   "outputs": [],
   "source": [
    "Q10:\n",
    "What is the data type of None?"
   ]
  },
  {
   "cell_type": "code",
   "execution_count": null,
   "id": "64d2a1ef",
   "metadata": {},
   "outputs": [],
   "source": [
    "Ans10:\n",
    "The data type of None is NoneType."
   ]
  },
  {
   "cell_type": "code",
   "execution_count": 14,
   "id": "ab4e6dd2",
   "metadata": {},
   "outputs": [
    {
     "data": {
      "text/plain": [
       "NoneType"
      ]
     },
     "execution_count": 14,
     "metadata": {},
     "output_type": "execute_result"
    }
   ],
   "source": [
    "#For example \n",
    "def func():\n",
    "    pass\n",
    "x=func()\n",
    "type(x)"
   ]
  },
  {
   "cell_type": "code",
   "execution_count": null,
   "id": "873264b6",
   "metadata": {},
   "outputs": [],
   "source": [
    "Q11:\n",
    "What does the import areallyourpetsnamederic statement do?"
   ]
  },
  {
   "cell_type": "code",
   "execution_count": null,
   "id": "d2bdebd0",
   "metadata": {},
   "outputs": [],
   "source": [
    "Ans11:\n",
    "That import statement should import a module named areallyourpetsnamederic if there is a module named areallyourpetsnamederic.\n",
    "lets check it."
   ]
  },
  {
   "cell_type": "code",
   "execution_count": 15,
   "id": "af2286a6",
   "metadata": {},
   "outputs": [
    {
     "ename": "ModuleNotFoundError",
     "evalue": "No module named 'areallyourpetsnamederic'",
     "output_type": "error",
     "traceback": [
      "\u001b[1;31m---------------------------------------------------------------------------\u001b[0m",
      "\u001b[1;31mModuleNotFoundError\u001b[0m                       Traceback (most recent call last)",
      "\u001b[1;32m~\\AppData\\Local\\Temp\\ipykernel_10040\\51184242.py\u001b[0m in \u001b[0;36m<module>\u001b[1;34m\u001b[0m\n\u001b[1;32m----> 1\u001b[1;33m \u001b[1;32mimport\u001b[0m \u001b[0mareallyourpetsnamederic\u001b[0m\u001b[1;33m\u001b[0m\u001b[1;33m\u001b[0m\u001b[0m\n\u001b[0m",
      "\u001b[1;31mModuleNotFoundError\u001b[0m: No module named 'areallyourpetsnamederic'"
     ]
    }
   ],
   "source": [
    "#Checking for module\n",
    "import areallyourpetsnamederic"
   ]
  },
  {
   "cell_type": "code",
   "execution_count": null,
   "id": "b25443f6",
   "metadata": {},
   "outputs": [],
   "source": [
    "Q12:\n",
    "If you had a bacon() feature in a spam module, what would you call it after importing spam?"
   ]
  },
  {
   "cell_type": "code",
   "execution_count": null,
   "id": "e0fff3eb",
   "metadata": {},
   "outputs": [],
   "source": [
    "Ans12:\n",
    "The function bacon() will be called with its module name like this: \n",
    "spam.bacon()"
   ]
  },
  {
   "cell_type": "code",
   "execution_count": null,
   "id": "d94145d0",
   "metadata": {},
   "outputs": [],
   "source": [
    "Q13:\n",
    "What can you do to save a programme from crashing when it encounters an error?"
   ]
  },
  {
   "cell_type": "code",
   "execution_count": null,
   "id": "6756a457",
   "metadata": {},
   "outputs": [],
   "source": [
    "Ans13:\n",
    "Place the code in try block and exception in the except block, this helps to save the program from crashing when it\n",
    "encounters an error."
   ]
  },
  {
   "cell_type": "code",
   "execution_count": null,
   "id": "9163d8cc",
   "metadata": {},
   "outputs": [],
   "source": [
    "Q14:\n",
    "What is the purpose of the try clause? What is the purpose of the except clause?"
   ]
  },
  {
   "cell_type": "code",
   "execution_count": null,
   "id": "f08ffd3a",
   "metadata": {},
   "outputs": [],
   "source": [
    "Ans14:\n",
    "The code that could cause an error is written in the try clause to save the program to crash, if an error occured in \n",
    "the code the error message from the excet block prints.\n",
    "The code that executes if an error happens written in the except clause so that the error message should be \n",
    "printed instead of crashing the program."
   ]
  }
 ],
 "metadata": {
  "kernelspec": {
   "display_name": "Python 3 (ipykernel)",
   "language": "python",
   "name": "python3"
  },
  "language_info": {
   "codemirror_mode": {
    "name": "ipython",
    "version": 3
   },
   "file_extension": ".py",
   "mimetype": "text/x-python",
   "name": "python",
   "nbconvert_exporter": "python",
   "pygments_lexer": "ipython3",
   "version": "3.9.13"
  }
 },
 "nbformat": 4,
 "nbformat_minor": 5
}
